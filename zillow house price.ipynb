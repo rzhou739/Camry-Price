{
 "cells": [
  {
   "cell_type": "code",
   "execution_count": 5,
   "metadata": {},
   "outputs": [
    {
     "name": "stdout",
     "output_type": "stream",
     "text": [
      "1\n"
     ]
    }
   ],
   "source": [
    "from bs4 import BeautifulSoup\n",
    "import requests\n",
    "\n",
    "url = 'https://www.immoscout24.ch/en/house/buy/city-bern?r=7&map=1'\n",
    "\n",
    "html = requests.get(url)\n",
    "soup = BeautifulSoup(html.text, \"html.parser\")\n",
    "buttons = soup.findAll('button')\n",
    "\n",
    "p = []\n",
    "for item in buttons:\n",
    "    if len(item.text) <= 3 & len(item.text) != 0:\n",
    "        print(item)\n",
    "        p.append(item.text)\n",
    "if p:\n",
    "    lastPage = int(p.pop())\n",
    "else:\n",
    "    lastPage = 1\n",
    "\n",
    "print(lastPage)"
   ]
  },
  {
   "cell_type": "code",
   "execution_count": 4,
   "metadata": {},
   "outputs": [
    {
     "name": "stdout",
     "output_type": "stream",
     "text": [
      "['6926537', '6924048', '6923836', '6922555', '6916987', '6465655', '6911231', '6909825', '6856930', '6829210', '6822743', '6787673', '6746102', '6701607', '6535011']\n"
     ]
    }
   ],
   "source": [
    "import re\n",
    "url = 'https://www.immoscout24.ch/en/house/buy/city-bern?pn=1&r=7&se=16&map=1'\n",
    "\n",
    "ids = []\n",
    "html = requests.get(url)\n",
    "soup = BeautifulSoup(html.text, \"html.parser\")\n",
    "links = soup.findAll('a', href=True)\n",
    "hrefs = [item['href'] for item in links]\n",
    "hrefs_filtered = [href for href in hrefs if href.startswith('/en/d')]\n",
    "ids += [re.findall('\\d+', item)[0] for item in hrefs_filtered]\n",
    "\n",
    "print(ids)"
   ]
  },
  {
   "cell_type": "code",
   "execution_count": null,
   "metadata": {},
   "outputs": [],
   "source": []
  }
 ],
 "metadata": {
  "kernelspec": {
   "display_name": "Python 3",
   "language": "python",
   "name": "python3"
  },
  "language_info": {
   "codemirror_mode": {
    "name": "ipython",
    "version": 3
   },
   "file_extension": ".py",
   "mimetype": "text/x-python",
   "name": "python",
   "nbconvert_exporter": "python",
   "pygments_lexer": "ipython3",
   "version": "3.7.4"
  }
 },
 "nbformat": 4,
 "nbformat_minor": 2
}
